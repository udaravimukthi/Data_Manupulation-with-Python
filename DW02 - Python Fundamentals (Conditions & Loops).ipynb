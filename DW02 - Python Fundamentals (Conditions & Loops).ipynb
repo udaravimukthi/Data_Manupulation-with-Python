{
 "cells": [
  {
   "cell_type": "markdown",
   "metadata": {},
   "source": [
    "# Conditions & Branching"
   ]
  },
  {
   "cell_type": "markdown",
   "metadata": {},
   "source": [
    "# if condition"
   ]
  },
  {
   "cell_type": "code",
   "execution_count": 1,
   "metadata": {},
   "outputs": [
    {
     "name": "stdout",
     "output_type": "stream",
     "text": [
      "X is greater than 10\n"
     ]
    }
   ],
   "source": [
    "x=20\n",
    "\n",
    "if x>10:\n",
    "    print(\"X is greater than 10\")"
   ]
  },
  {
   "cell_type": "code",
   "execution_count": 2,
   "metadata": {},
   "outputs": [],
   "source": [
    "x=20\n",
    "\n",
    "if x<10:\n",
    "    print(\"X is less than 10\")\n",
    "\n",
    "#Here no output is given"
   ]
  },
  {
   "cell_type": "code",
   "execution_count": 3,
   "metadata": {},
   "outputs": [
    {
     "name": "stdout",
     "output_type": "stream",
     "text": [
      "Statement is true\n"
     ]
    }
   ],
   "source": [
    "x=30\n",
    "\n",
    "if True:\n",
    "    print(\"Statement is true\")"
   ]
  },
  {
   "cell_type": "code",
   "execution_count": 6,
   "metadata": {},
   "outputs": [],
   "source": [
    "x=30\n",
    "\n",
    "if False:\n",
    "    print(\"Statement is false\")"
   ]
  },
  {
   "cell_type": "code",
   "execution_count": 7,
   "metadata": {},
   "outputs": [
    {
     "name": "stdout",
     "output_type": "stream",
     "text": [
      "20 is a member of L\n"
     ]
    }
   ],
   "source": [
    "L=[10,20,30,40,50]\n",
    "\n",
    "if 20 in L:\n",
    "    print(\"20 is a member of L\")"
   ]
  },
  {
   "cell_type": "markdown",
   "metadata": {},
   "source": [
    "# if else conditions"
   ]
  },
  {
   "cell_type": "code",
   "execution_count": 8,
   "metadata": {},
   "outputs": [
    {
     "name": "stdout",
     "output_type": "stream",
     "text": [
      "X is greater than 10\n"
     ]
    }
   ],
   "source": [
    "x=20\n",
    "\n",
    "if x>10:\n",
    "    print(\"X is greater than 10\")\n",
    "else:\n",
    "    print(\"X is less than 10\")"
   ]
  },
  {
   "cell_type": "markdown",
   "metadata": {},
   "source": [
    "# if elif else conditions"
   ]
  },
  {
   "cell_type": "code",
   "execution_count": 11,
   "metadata": {},
   "outputs": [],
   "source": [
    "mark=75\n",
    "\n",
    "if mark>=80:\n",
    "    Grade=\"A\"\n",
    "elif mark>=65:\n",
    "    Grade=\"B\"\n",
    "elif mark>=50:\n",
    "    Grade=\"C\"\n",
    "else:\n",
    "    Grade=\"Repeat\""
   ]
  },
  {
   "cell_type": "code",
   "execution_count": 12,
   "metadata": {},
   "outputs": [
    {
     "data": {
      "text/plain": [
       "'B'"
      ]
     },
     "execution_count": 12,
     "metadata": {},
     "output_type": "execute_result"
    }
   ],
   "source": [
    "Grade"
   ]
  },
  {
   "cell_type": "markdown",
   "metadata": {},
   "source": [
    "# Making decisions with logical operators"
   ]
  },
  {
   "cell_type": "code",
   "execution_count": 13,
   "metadata": {},
   "outputs": [
    {
     "name": "stdout",
     "output_type": "stream",
     "text": [
      "X is in the correct region\n"
     ]
    }
   ],
   "source": [
    "x=30\n",
    "\n",
    "if x>10 and x<50:\n",
    "    print(\"X is in the correct region\")\n",
    "else:\n",
    "    print(\"X is out of the region\")"
   ]
  },
  {
   "cell_type": "code",
   "execution_count": 14,
   "metadata": {},
   "outputs": [
    {
     "name": "stdout",
     "output_type": "stream",
     "text": [
      "X is in the correct region\n"
     ]
    }
   ],
   "source": [
    "x=30\n",
    "\n",
    "if x>10 or x==50:\n",
    "    print(\"X is in the correct region\")\n",
    "else:\n",
    "    print(\"X is out of the region\")"
   ]
  },
  {
   "cell_type": "code",
   "execution_count": 15,
   "metadata": {},
   "outputs": [
    {
     "name": "stdout",
     "output_type": "stream",
     "text": [
      "X is out of the region\n"
     ]
    }
   ],
   "source": [
    "x=30\n",
    "\n",
    "if not x>10 or x==50:\n",
    "    print(\"X is in the correct region\")\n",
    "else:\n",
    "    print(\"X is out of the region\")"
   ]
  },
  {
   "cell_type": "code",
   "execution_count": 17,
   "metadata": {},
   "outputs": [
    {
     "name": "stdout",
     "output_type": "stream",
     "text": [
      "Please enter the username:Sam\n",
      "Please enter the password:ABC\n",
      "You have logged successfully\n"
     ]
    }
   ],
   "source": [
    "det={\"Sam\":\"ABC\",\"Kane\":\"XYZ\"}\n",
    "\n",
    "username=input(\"Please enter the username:\")\n",
    "password=input(\"Please enter the password:\")\n",
    "\n",
    "if username in det and password==det[username]:\n",
    "    print(\"You have logged successfully\")\n",
    "else:\n",
    "    print(\"Please check your username or password\")"
   ]
  },
  {
   "cell_type": "markdown",
   "metadata": {},
   "source": [
    "# For loop"
   ]
  },
  {
   "cell_type": "markdown",
   "metadata": {},
   "source": [
    "# Basic for loop"
   ]
  },
  {
   "cell_type": "code",
   "execution_count": 18,
   "metadata": {},
   "outputs": [],
   "source": [
    "L=[11,22,33,44,55,66,77]"
   ]
  },
  {
   "cell_type": "code",
   "execution_count": 19,
   "metadata": {},
   "outputs": [
    {
     "name": "stdout",
     "output_type": "stream",
     "text": [
      "11\n",
      "22\n",
      "33\n",
      "44\n",
      "55\n",
      "66\n",
      "77\n"
     ]
    }
   ],
   "source": [
    "for i in L:\n",
    "    print(i)"
   ]
  },
  {
   "cell_type": "code",
   "execution_count": 20,
   "metadata": {},
   "outputs": [
    {
     "name": "stdout",
     "output_type": "stream",
     "text": [
      "11*22*33*44*55*66*77*"
     ]
    }
   ],
   "source": [
    "for i in L:\n",
    "    print(i, end=\"*\")"
   ]
  },
  {
   "cell_type": "code",
   "execution_count": 21,
   "metadata": {},
   "outputs": [
    {
     "name": "stdout",
     "output_type": "stream",
     "text": [
      "22,44,66,88,110,132,154,"
     ]
    }
   ],
   "source": [
    "for i in L:\n",
    "    print(2*i, end=\",\")"
   ]
  },
  {
   "cell_type": "code",
   "execution_count": 22,
   "metadata": {},
   "outputs": [
    {
     "name": "stdout",
     "output_type": "stream",
     "text": [
      "22 44 66 "
     ]
    }
   ],
   "source": [
    "for i in L:\n",
    "    if i%2==0:\n",
    "        print(i, end=\" \")"
   ]
  },
  {
   "cell_type": "markdown",
   "metadata": {},
   "source": [
    "# Range function"
   ]
  },
  {
   "cell_type": "code",
   "execution_count": null,
   "metadata": {},
   "outputs": [],
   "source": [
    "range(1,10)"
   ]
  },
  {
   "cell_type": "code",
   "execution_count": null,
   "metadata": {},
   "outputs": [],
   "source": [
    "list(range(1,10))"
   ]
  },
  {
   "cell_type": "code",
   "execution_count": null,
   "metadata": {},
   "outputs": [],
   "source": [
    "list(range(1,11))"
   ]
  },
  {
   "cell_type": "code",
   "execution_count": null,
   "metadata": {},
   "outputs": [],
   "source": [
    "list(range(11))"
   ]
  },
  {
   "cell_type": "code",
   "execution_count": null,
   "metadata": {},
   "outputs": [],
   "source": [
    "list(range(1,11,2))"
   ]
  },
  {
   "cell_type": "markdown",
   "metadata": {},
   "source": [
    "# For loop with range function"
   ]
  },
  {
   "cell_type": "code",
   "execution_count": 23,
   "metadata": {},
   "outputs": [
    {
     "name": "stdout",
     "output_type": "stream",
     "text": [
      "0\n",
      "1\n",
      "2\n",
      "3\n",
      "4\n",
      "5\n",
      "6\n",
      "7\n",
      "8\n",
      "9\n"
     ]
    }
   ],
   "source": [
    "for i in range(10):\n",
    "    print(i)"
   ]
  },
  {
   "cell_type": "code",
   "execution_count": 24,
   "metadata": {},
   "outputs": [
    {
     "name": "stdout",
     "output_type": "stream",
     "text": [
      "11 12 13 14 15 16 17 18 19 20 "
     ]
    }
   ],
   "source": [
    "for i in range(11,21):\n",
    "    print(i, end=\" \")"
   ]
  },
  {
   "cell_type": "code",
   "execution_count": 25,
   "metadata": {},
   "outputs": [
    {
     "name": "stdout",
     "output_type": "stream",
     "text": [
      "Odd Even Odd Even Odd Even Odd Even Odd Even "
     ]
    }
   ],
   "source": [
    "for i in range(1,11):\n",
    "    if i%2==0:\n",
    "        print(\"Even\", end=\" \")\n",
    "    else:\n",
    "        print(\"Odd\", end=\" \")"
   ]
  },
  {
   "cell_type": "markdown",
   "metadata": {},
   "source": [
    "# Break keyword"
   ]
  },
  {
   "cell_type": "code",
   "execution_count": 26,
   "metadata": {},
   "outputs": [
    {
     "name": "stdout",
     "output_type": "stream",
     "text": [
      "12\n",
      "22\n",
      "23\n",
      "34\n"
     ]
    }
   ],
   "source": [
    "for i in [12,22,23,34,56,43,67]:\n",
    "    if i>=50:\n",
    "        break\n",
    "    print(i)"
   ]
  },
  {
   "cell_type": "markdown",
   "metadata": {},
   "source": [
    "# Continue keyword"
   ]
  },
  {
   "cell_type": "code",
   "execution_count": 27,
   "metadata": {},
   "outputs": [
    {
     "name": "stdout",
     "output_type": "stream",
     "text": [
      "12\n",
      "22\n",
      "23\n",
      "34\n",
      "43\n"
     ]
    }
   ],
   "source": [
    "for i in [12,22,23,34,56,43,67]:\n",
    "    if i>=50:\n",
    "        continue\n",
    "    print(i)"
   ]
  },
  {
   "cell_type": "markdown",
   "metadata": {},
   "source": [
    "# For loop inside lists"
   ]
  },
  {
   "cell_type": "code",
   "execution_count": 28,
   "metadata": {},
   "outputs": [],
   "source": [
    "L=[23,33,21,45,56]"
   ]
  },
  {
   "cell_type": "code",
   "execution_count": 29,
   "metadata": {},
   "outputs": [
    {
     "name": "stdout",
     "output_type": "stream",
     "text": [
      "[46, 66, 42, 90, 112]\n"
     ]
    }
   ],
   "source": [
    "L_new=[2*i for i in L]\n",
    "print(L_new)"
   ]
  },
  {
   "cell_type": "code",
   "execution_count": 30,
   "metadata": {},
   "outputs": [
    {
     "name": "stdout",
     "output_type": "stream",
     "text": [
      "[3, 6, 9, 12, 15, 18, 21, 24, 27, 30]\n"
     ]
    }
   ],
   "source": [
    "K=[3*j for j in range(1,11)]\n",
    "print(K)"
   ]
  },
  {
   "cell_type": "code",
   "execution_count": 31,
   "metadata": {},
   "outputs": [
    {
     "name": "stdout",
     "output_type": "stream",
     "text": [
      "[33, 34, 56]\n"
     ]
    }
   ],
   "source": [
    "H=[23,33,34,45,56,78]\n",
    "S=[H[i] for i in [1,2,4]]\n",
    "print(S)"
   ]
  },
  {
   "cell_type": "markdown",
   "metadata": {},
   "source": [
    "# For loop inside lists with if condition"
   ]
  },
  {
   "cell_type": "code",
   "execution_count": 33,
   "metadata": {},
   "outputs": [],
   "source": [
    "L=[11,23,24,46,57,68,43,50]"
   ]
  },
  {
   "cell_type": "code",
   "execution_count": 34,
   "metadata": {},
   "outputs": [
    {
     "name": "stdout",
     "output_type": "stream",
     "text": [
      "[24, 46, 68, 50]\n"
     ]
    }
   ],
   "source": [
    "L_new=[j for j in L if j%2==0]\n",
    "print(L_new)"
   ]
  },
  {
   "cell_type": "markdown",
   "metadata": {},
   "source": [
    "# For loop inside lists with if else conditions"
   ]
  },
  {
   "cell_type": "code",
   "execution_count": 35,
   "metadata": {},
   "outputs": [],
   "source": [
    "L=[11,23,24,46,57,68,43,50]"
   ]
  },
  {
   "cell_type": "code",
   "execution_count": 36,
   "metadata": {},
   "outputs": [
    {
     "name": "stdout",
     "output_type": "stream",
     "text": [
      "['Odd', 'Odd', 'Even', 'Even', 'Odd', 'Even', 'Odd', 'Even']\n"
     ]
    }
   ],
   "source": [
    "L_new=[\"Even\" if i%2==0 else \"Odd\" for i in L]\n",
    "print(L_new)"
   ]
  },
  {
   "cell_type": "code",
   "execution_count": 37,
   "metadata": {},
   "outputs": [],
   "source": [
    "mark=[90,34,56,78,83,45,68]"
   ]
  },
  {
   "cell_type": "code",
   "execution_count": 38,
   "metadata": {},
   "outputs": [
    {
     "name": "stdout",
     "output_type": "stream",
     "text": [
      "['A', 'Repeat', 'C', 'B', 'A', 'Repeat', 'B']\n"
     ]
    }
   ],
   "source": [
    "Grade=[\"A\" if i>=80 else \"B\" if i>=65 else \"C\" if i>=50 else \"Repeat\" for i in mark]\n",
    "print(Grade)"
   ]
  },
  {
   "cell_type": "markdown",
   "metadata": {},
   "source": [
    "# Enumerate function"
   ]
  },
  {
   "cell_type": "code",
   "execution_count": 39,
   "metadata": {},
   "outputs": [
    {
     "name": "stdout",
     "output_type": "stream",
     "text": [
      "0\n",
      "12\n",
      "----\n",
      "1\n",
      "22\n",
      "----\n",
      "2\n",
      "34\n",
      "----\n",
      "3\n",
      "45\n",
      "----\n"
     ]
    }
   ],
   "source": [
    "L=[12,22,34,45]\n",
    "\n",
    "for i,j in enumerate(L):\n",
    "    print(i)\n",
    "    print(j)\n",
    "    print(\"----\")"
   ]
  },
  {
   "cell_type": "code",
   "execution_count": 40,
   "metadata": {},
   "outputs": [
    {
     "data": {
      "text/plain": [
       "[33, 45, 67]"
      ]
     },
     "execution_count": 40,
     "metadata": {},
     "output_type": "execute_result"
    }
   ],
   "source": [
    "H=[23,33,44,43,45,56,43,32,56,67]\n",
    "S=[j for i,j in enumerate(H) if i in [1,4,9]]\n",
    "S\n",
    "\n"
   ]
  },
  {
   "cell_type": "markdown",
   "metadata": {},
   "source": [
    "# Zip function"
   ]
  },
  {
   "cell_type": "code",
   "execution_count": 41,
   "metadata": {},
   "outputs": [
    {
     "name": "stdout",
     "output_type": "stream",
     "text": [
      "12 23\n",
      "22 33\n",
      "23 45\n",
      "34 67\n",
      "54 43\n"
     ]
    }
   ],
   "source": [
    "L1=[12,22,23,34,54]\n",
    "L2=[23,33,45,67,43]\n",
    "\n",
    "for i,j in zip(L1,L2):\n",
    "    print(i,j)"
   ]
  },
  {
   "cell_type": "code",
   "execution_count": 42,
   "metadata": {},
   "outputs": [],
   "source": [
    "L1=[12,22,23,34,54]\n",
    "L2=[23,33,45,67,43]\n",
    "\n",
    "L_Sum=[]\n",
    "for i,j in zip(L1,L2):\n",
    "    L_Sum.append(i+j)"
   ]
  },
  {
   "cell_type": "code",
   "execution_count": 43,
   "metadata": {},
   "outputs": [
    {
     "data": {
      "text/plain": [
       "[35, 55, 68, 101, 97]"
      ]
     },
     "execution_count": 43,
     "metadata": {},
     "output_type": "execute_result"
    }
   ],
   "source": [
    "L_Sum"
   ]
  },
  {
   "cell_type": "code",
   "execution_count": 44,
   "metadata": {},
   "outputs": [
    {
     "name": "stdout",
     "output_type": "stream",
     "text": [
      "[35, 55, 68, 101, 97]\n"
     ]
    }
   ],
   "source": [
    "L_sum2=[i+j for i,j in zip(L1,L2)]\n",
    "print(L_sum2)"
   ]
  },
  {
   "cell_type": "markdown",
   "metadata": {},
   "source": [
    "# While loop"
   ]
  },
  {
   "cell_type": "code",
   "execution_count": 45,
   "metadata": {},
   "outputs": [
    {
     "name": "stdout",
     "output_type": "stream",
     "text": [
      "0\n",
      "2\n",
      "4\n",
      "6\n",
      "8\n"
     ]
    }
   ],
   "source": [
    "x=0\n",
    "\n",
    "while x<5:\n",
    "    print(2*x)\n",
    "    x=x+1"
   ]
  },
  {
   "cell_type": "code",
   "execution_count": 46,
   "metadata": {},
   "outputs": [
    {
     "name": "stdout",
     "output_type": "stream",
     "text": [
      "Please enter your car pin number:55\n",
      "Please enter your car pin number:444\n",
      "Please enter your car pin number:445\n",
      "Please enter your car pin number:12345678\n",
      "You have accessed to the machine\n"
     ]
    }
   ],
   "source": [
    "pin=12345678\n",
    "\n",
    "check=True\n",
    "while check:\n",
    "    entered_pin=int(input(\"Please enter your car pin number:\"))\n",
    "    if entered_pin==pin:\n",
    "        check=False\n",
    "else:\n",
    "    print(\"You have accessed to the machine\")"
   ]
  },
  {
   "cell_type": "code",
   "execution_count": 47,
   "metadata": {},
   "outputs": [
    {
     "name": "stdout",
     "output_type": "stream",
     "text": [
      "Please enter your car pin number:12345678\n",
      "You have accessed to the machine\n"
     ]
    }
   ],
   "source": [
    "pin=12345678\n",
    "\n",
    "entered_pin=int(input(\"Please enter your car pin number:\"))\n",
    "\n",
    "while entered_pin!=pin:\n",
    "    entered_pin=int(input(\"Please enter your car pin number:\"))\n",
    "else:\n",
    "    print(\"You have accessed to the machine\")"
   ]
  },
  {
   "cell_type": "code",
   "execution_count": null,
   "metadata": {},
   "outputs": [
    {
     "name": "stdout",
     "output_type": "stream",
     "text": [
      "Enter a value:35\n",
      "Enter a value:50\n",
      "Enter a value:4\n"
     ]
    }
   ],
   "source": [
    "val=int(input(\"Enter a value:\"))\n",
    "flag=True\n",
    "while flag:\n",
    "    val=int(input(\"Enter a value:\"))\n",
    "    if val>30 and val<40:\n",
    "        flag=False\n",
    "        "
   ]
  }
 ],
 "metadata": {
  "kernelspec": {
   "display_name": "Python 3",
   "language": "python",
   "name": "python3"
  },
  "language_info": {
   "codemirror_mode": {
    "name": "ipython",
    "version": 3
   },
   "file_extension": ".py",
   "mimetype": "text/x-python",
   "name": "python",
   "nbconvert_exporter": "python",
   "pygments_lexer": "ipython3",
   "version": "3.8.5"
  }
 },
 "nbformat": 4,
 "nbformat_minor": 4
}
